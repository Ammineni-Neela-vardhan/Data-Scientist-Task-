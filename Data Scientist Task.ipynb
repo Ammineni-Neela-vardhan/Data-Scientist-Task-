{
  "nbformat": 4,
  "nbformat_minor": 0,
  "metadata": {
    "colab": {
      "private_outputs": true,
      "provenance": []
    },
    "kernelspec": {
      "name": "python3",
      "display_name": "Python 3"
    },
    "language_info": {
      "name": "python"
    }
  },
  "cells": [
    {
      "cell_type": "code",
      "source": [
        "# Import necessary libraries\n",
        "import pandas as pd\n",
        "import matplotlib.pyplot as plt\n",
        "import seaborn as sns\n",
        "\n",
        "# Load datasets\n",
        "sentiment_df = pd.read_csv(\"/content/fear_greed_index.csv\")\n",
        "trader_df = pd.read_csv(\"/content/historical_data.csv\")\n",
        "\n",
        "# Preprocess sentiment data\n",
        "sentiment_df['date'] = pd.to_datetime(sentiment_df['date'])\n",
        "sentiment_df = sentiment_df[['date', 'classification']]\n",
        "\n",
        "# Preprocess trader data\n",
        "trader_df['Timestamp IST'] = pd.to_datetime(trader_df['Timestamp IST'], format='%d-%m-%Y %H:%M')\n",
        "trader_df['date'] = trader_df['Timestamp IST'].dt.date\n",
        "trader_df['date'] = pd.to_datetime(trader_df['date'])\n",
        "trader_df['Closed PnL'] = pd.to_numeric(trader_df['Closed PnL'], errors='coerce')\n",
        "\n",
        "# Merge datasets on date\n",
        "merged_df = pd.merge(trader_df, sentiment_df, on='date', how='left')\n",
        "\n",
        "# Map sentiment to numeric scores\n",
        "sentiment_order = {'Extreme Fear': 0, 'Fear': 1, 'Neutral': 2, 'Greed': 3, 'Extreme Greed': 4}\n",
        "merged_df['sentiment_score'] = merged_df['classification'].map(sentiment_order)\n",
        "\n",
        "# ANALYSIS\n",
        "\n",
        "# 1. Performance by sentiment and trade side\n",
        "performance_by_sentiment_side = merged_df.groupby(['classification', 'Side'])['Closed PnL'].agg(['mean', 'median', 'std', 'count']).reset_index()\n",
        "print(\"Performance by Sentiment and Side:\\n\", performance_by_sentiment_side)\n",
        "\n",
        "# 2. Sentiment score correlation with average PnL\n",
        "sentiment_score_pnl = merged_df.groupby('sentiment_score')['Closed PnL'].mean().reset_index()\n",
        "print(\"\\nAverage PnL by Sentiment Score:\\n\", sentiment_score_pnl)\n",
        "\n",
        "# 3. Top 3 performing accounts under each sentiment\n",
        "top_accounts_by_sentiment = (\n",
        "    merged_df.groupby(['classification', 'Account'])['Closed PnL']\n",
        "    .sum()\n",
        "    .reset_index()\n",
        "    .sort_values(['classification', 'Closed PnL'], ascending=[True, False])\n",
        ")\n",
        "top_3_per_sentiment = top_accounts_by_sentiment.groupby('classification').head(3)\n",
        "print(\"\\nTop 3 Performing Accounts by Sentiment:\\n\", top_3_per_sentiment)\n",
        "\n",
        "#VISUALIZATIONS\n",
        "\n",
        "# Boxplot of PnL distribution by sentiment\n",
        "plt.figure(figsize=(10, 6))\n",
        "sns.boxplot(x='classification', y='Closed PnL', data=merged_df, showfliers=False, palette='coolwarm')\n",
        "plt.title('PnL Distribution by Market Sentiment')\n",
        "plt.xticks(rotation=45)\n",
        "plt.tight_layout()\n",
        "plt.show()\n",
        "\n",
        "# Line plot for sentiment score vs average PnL\n",
        "plt.figure(figsize=(8, 5))\n",
        "sns.lineplot(data=sentiment_score_pnl, x='sentiment_score', y='Closed PnL', marker='o')\n",
        "plt.title('Average PnL vs Sentiment Score')\n",
        "plt.xlabel('Sentiment Score (0=Extreme Fear, 4=Extreme Greed)')\n",
        "plt.ylabel('Average Closed PnL')\n",
        "plt.grid(True)\n",
        "plt.tight_layout()\n",
        "plt.show()\n"
      ],
      "metadata": {
        "id": "WXzOn-_-pOEz"
      },
      "execution_count": null,
      "outputs": []
    }
  ]
}